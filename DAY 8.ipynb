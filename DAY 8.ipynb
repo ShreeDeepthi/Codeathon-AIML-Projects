{
  "nbformat": 4,
  "nbformat_minor": 0,
  "metadata": {
    "colab": {
      "provenance": []
    },
    "kernelspec": {
      "name": "python3",
      "display_name": "Python 3"
    },
    "language_info": {
      "name": "python"
    }
  },
  "cells": [
    {
      "cell_type": "code",
      "execution_count": 1,
      "metadata": {
        "id": "cIq2Rwasds-k"
      },
      "outputs": [],
      "source": [
        "# Step 1: Import necessary libraries\n",
        "import pandas as pd\n",
        "import numpy as np\n",
        "from sklearn.decomposition import PCA\n",
        "from sklearn.preprocessing import StandardScaler\n",
        "import matplotlib.pyplot as plt"
      ]
    },
    {
      "cell_type": "code",
      "source": [
        "# Step 2: Load and display the dataset\n",
        "data = pd.read_csv('Iris.csv')\n",
        "print(\"Dataset:\")\n",
        "print(data.head())"
      ],
      "metadata": {
        "colab": {
          "base_uri": "https://localhost:8080/"
        },
        "id": "xrft2Cojd9Sj",
        "outputId": "b91587f3-a653-40c1-f076-bdcc6f6c71b6"
      },
      "execution_count": 3,
      "outputs": [
        {
          "output_type": "stream",
          "name": "stdout",
          "text": [
            "Dataset:\n",
            "   Id  SepalLengthCm  SepalWidthCm  PetalLengthCm  PetalWidthCm      Species\n",
            "0   1            5.1           3.5            1.4           0.2  Iris-setosa\n",
            "1   2            4.9           3.0            1.4           0.2  Iris-setosa\n",
            "2   3            4.7           3.2            1.3           0.2  Iris-setosa\n",
            "3   4            4.6           3.1            1.5           0.2  Iris-setosa\n",
            "4   5            5.0           3.6            1.4           0.2  Iris-setosa\n"
          ]
        }
      ]
    },
    {
      "cell_type": "code",
      "source": [
        "# Drop non-feature columns if present\n",
        "data_features = data.drop(['Id', 'Species'], axis=1)"
      ],
      "metadata": {
        "id": "ATmHDcKdd__0"
      },
      "execution_count": 4,
      "outputs": []
    },
    {
      "cell_type": "code",
      "source": [
        "# Standardize the data\n",
        "scaler = StandardScaler()\n",
        "data_scaled = scaler.fit_transform(data_features)"
      ],
      "metadata": {
        "id": "RRmZtfpzeWov"
      },
      "execution_count": 5,
      "outputs": []
    },
    {
      "cell_type": "code",
      "source": [
        "# Step 3: Perform PCA\n",
        "pca = PCA(n_components=2)  # Reduce dimensions to 2\n",
        "principal_components = pca.fit_transform(data_scaled)"
      ],
      "metadata": {
        "id": "fhLGzRt8eZ81"
      },
      "execution_count": 6,
      "outputs": []
    },
    {
      "cell_type": "code",
      "source": [
        "# Step 4: Convert the principal components to a DataFrame and display it\n",
        "pca_df = pd.DataFrame(data=principal_components, columns=['Principal Component 1', 'Principal Component 2'])\n",
        "print(\"\\nPrincipal Components:\")\n",
        "print(pca_df.head())"
      ],
      "metadata": {
        "colab": {
          "base_uri": "https://localhost:8080/"
        },
        "id": "aLx90piPefT7",
        "outputId": "70975b39-6b4c-490f-b4e5-157abf6c7062"
      },
      "execution_count": 7,
      "outputs": [
        {
          "output_type": "stream",
          "name": "stdout",
          "text": [
            "\n",
            "Principal Components:\n",
            "   Principal Component 1  Principal Component 2\n",
            "0              -2.264542               0.505704\n",
            "1              -2.086426              -0.655405\n",
            "2              -2.367950              -0.318477\n",
            "3              -2.304197              -0.575368\n",
            "4              -2.388777               0.674767\n"
          ]
        }
      ]
    },
    {
      "cell_type": "code",
      "source": [
        "# Step 5: Display explained variance ratio\n",
        "explained_variance_ratio = pca.explained_variance_ratio_\n",
        "print(\"\\nExplained Variance Ratio:\")\n",
        "print(explained_variance_ratio)"
      ],
      "metadata": {
        "colab": {
          "base_uri": "https://localhost:8080/"
        },
        "id": "oalaggr6eiko",
        "outputId": "25153303-38fc-4cee-d9a9-2038d372980b"
      },
      "execution_count": 8,
      "outputs": [
        {
          "output_type": "stream",
          "name": "stdout",
          "text": [
            "\n",
            "Explained Variance Ratio:\n",
            "[0.72770452 0.23030523]\n"
          ]
        }
      ]
    },
    {
      "cell_type": "code",
      "source": [
        "# Calculate and display the model's inertia\n",
        "inertia = np.sum(pca.explained_variance_)\n",
        "print(\"\\nInertia of the model:\", inertia)"
      ],
      "metadata": {
        "colab": {
          "base_uri": "https://localhost:8080/"
        },
        "id": "_gIk0uK_emhD",
        "outputId": "79b4282f-3dd2-4951-af14-b78fc2decafe"
      },
      "execution_count": 9,
      "outputs": [
        {
          "output_type": "stream",
          "name": "stdout",
          "text": [
            "\n",
            "Inertia of the model: 3.8577573971066594\n"
          ]
        }
      ]
    },
    {
      "cell_type": "code",
      "source": [
        "# Step 6: Visualize the PCA results (scree plot)\n",
        "plt.figure(figsize=(8, 5))\n",
        "plt.bar(range(1, 3), explained_variance_ratio, color='skyblue', tick_label=['PC1', 'PC2'])\n",
        "plt.title('Explained Variance Ratio by Principal Component')\n",
        "plt.xlabel('Principal Components')\n",
        "plt.ylabel('Variance Ratio')\n",
        "plt.show()"
      ],
      "metadata": {
        "colab": {
          "base_uri": "https://localhost:8080/",
          "height": 487
        },
        "id": "wRf4TEo_esXZ",
        "outputId": "4f371053-2e81-40ed-b9b1-349de0357435"
      },
      "execution_count": 10,
      "outputs": [
        {
          "output_type": "display_data",
          "data": {
            "text/plain": [
              "<Figure size 800x500 with 1 Axes>"
            ],
            "image/png": "[encoded data removed]"
          },
          "metadata": {}
        }
      ]
    }
  ]
}