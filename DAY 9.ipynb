{
  "nbformat": 4,
  "nbformat_minor": 0,
  "metadata": {
    "colab": {
      "provenance": []
    },
    "kernelspec": {
      "name": "python3",
      "display_name": "Python 3"
    },
    "language_info": {
      "name": "python"
    }
  },
  "cells": [
    {
      "cell_type": "code",
      "execution_count": 1,
      "metadata": {
        "id": "h9h5JIorpS2m"
      },
      "outputs": [],
      "source": [
        "# Step 1: Import necessary libraries\n",
        "import pandas as pd\n",
        "import numpy as np\n",
        "from sklearn.preprocessing import StandardScaler\n",
        "from sklearn.cluster import KMeans\n"
      ]
    },
    {
      "cell_type": "code",
      "source": [
        "# Step 2: Load dataset\n",
        "# Assuming the dataset is saved as 'data.csv', upload it to Google Colab or load from Google Drive\n",
        "# Replace 'data.csv' with the actual path if needed\n",
        "data = pd.read_csv('synthetic_anomaly_detection.csv')"
      ],
      "metadata": {
        "id": "KC6stPcSpfcr"
      },
      "execution_count": 5,
      "outputs": []
    },
    {
      "cell_type": "code",
      "source": [
        "# Step 3: Quick data inspection\n",
        "print(\"First few rows of the dataset:\")\n",
        "print(data.head())\n",
        "print(\"\\nDataset description:\")\n",
        "print(data.describe())"
      ],
      "metadata": {
        "colab": {
          "base_uri": "https://localhost:8080/"
        },
        "id": "yO3ktslVpqiQ",
        "outputId": "eaf7c077-48c7-4a60-c370-a093763e892b"
      },
      "execution_count": 3,
      "outputs": [
        {
          "output_type": "stream",
          "name": "stdout",
          "text": [
            "First few rows of the dataset:\n",
            "  feature_1,feature_2,feature_3,feature_4,feature_5,label\n",
            "0  1.764052345967664,0.4001572083672233,0.9787379...     \n",
            "1  -0.977277879876411,0.9500884175255894,-0.15135...     \n",
            "2  0.144043571160878,1.454273506962975,0.76103772...     \n",
            "3  0.33367432737426683,1.4940790731576061,-0.2051...     \n",
            "4  -2.5529898158340787,0.6536185954403606,0.86443...     \n",
            "\n",
            "Dataset description:\n",
            "       feature_1,feature_2,feature_3,feature_4,feature_5,label\n",
            "count                                                 500     \n",
            "unique                                                500     \n",
            "top     1.764052345967664,0.4001572083672233,0.9787379...     \n",
            "freq                                                    1     \n"
          ]
        }
      ]
    },
    {
      "cell_type": "code",
      "source": [
        "# Step 4: Preprocessing: Scale features if needed\n",
        "scaler = StandardScaler()\n",
        "features = data[['feature_1', 'feature_2', 'feature_3', 'feature_4', 'feature_5']]\n",
        "scaled_features = scaler.fit_transform(features)"
      ],
      "metadata": {
        "id": "otEvxszEp1s2"
      },
      "execution_count": 6,
      "outputs": []
    },
    {
      "cell_type": "code",
      "source": [
        "# Step 5: Apply K-Means clustering with n_clusters=3 and random_state=42\n",
        "kmeans = KMeans(n_clusters=3, random_state=42)\n",
        "data['cluster'] = kmeans.fit_predict(scaled_features)\n"
      ],
      "metadata": {
        "id": "H-HfMEykqio_"
      },
      "execution_count": 7,
      "outputs": []
    },
    {
      "cell_type": "code",
      "source": [
        "# Step 6: Calculate distance to the nearest cluster center for each point\n",
        "data['distance_to_center'] = np.linalg.norm(scaled_features - kmeans.cluster_centers_[data['cluster']], axis=1)"
      ],
      "metadata": {
        "id": "X1FQfX_Vqmyi"
      },
      "execution_count": 8,
      "outputs": []
    },
    {
      "cell_type": "code",
      "source": [
        "# Step 7: Define a threshold for anomaly detection (mean + 2*std deviation)\n",
        "threshold = data['distance_to_center'].mean() + 2 * data['distance_to_center'].std()"
      ],
      "metadata": {
        "id": "13bjdlIHq2v4"
      },
      "execution_count": 9,
      "outputs": []
    },
    {
      "cell_type": "code",
      "source": [
        "# Mark anomalies (ANOMALY == 1 if distance > threshold)\n",
        "data['anomaly'] = data['distance_to_center'] > threshold"
      ],
      "metadata": {
        "id": "evlz_6pSq7mx"
      },
      "execution_count": 10,
      "outputs": []
    },
    {
      "cell_type": "code",
      "source": [
        "# Step 8: Display anomalies\n",
        "anomalies = data[data['anomaly'] == 1]\n",
        "num_anomalies = len(anomalies)\n",
        "print(f\"Number of anomalies detected: {num_anomalies}\")"
      ],
      "metadata": {
        "colab": {
          "base_uri": "https://localhost:8080/"
        },
        "id": "ZvBDtnfCq_K5",
        "outputId": "ee563503-cbd7-4cd3-885e-7f5efdf56bb4"
      },
      "execution_count": 13,
      "outputs": [
        {
          "output_type": "stream",
          "name": "stdout",
          "text": [
            "Number of anomalies detected: 18\n"
          ]
        }
      ]
    },
    {
      "cell_type": "code",
      "source": [
        "# Display anomalies\n",
        "print(\"\\nAnomalous data points:\")\n",
        "print(anomalies)"
      ],
      "metadata": {
        "colab": {
          "base_uri": "https://localhost:8080/"
        },
        "id": "gan5qdIprDQQ",
        "outputId": "e5aa8a8b-a0ea-42da-b828-65c87e930f9d"
      },
      "execution_count": 12,
      "outputs": [
        {
          "output_type": "stream",
          "name": "stdout",
          "text": [
            "\n",
            "Anomalous data points:\n",
            "     feature_1  feature_2  feature_3  feature_4  feature_5  label  cluster  \\\n",
            "0     1.764052   0.400157   0.978738   2.240893   1.867558    0.0        2   \n",
            "4    -2.552990   0.653619   0.864436  -0.742165   2.269755    0.0        0   \n",
            "93    2.412454  -0.960504  -0.793117  -2.288620   0.251484    0.0        0   \n",
            "98   -1.029935  -0.349943   1.100284   1.298022   2.696224    0.0        0   \n",
            "117  -0.470638  -0.216950   0.445393  -0.392389  -3.046143    0.0        0   \n",
            "137  -2.834555   2.116791  -1.610878  -0.035768   2.380745    0.0        2   \n",
            "179   1.997956  -0.856549  -1.541587   2.594425  -0.404032    0.0        2   \n",
            "210  -0.719941  -0.893574  -0.156024   1.049093   3.170975    0.0        2   \n",
            "270  -0.919651   2.642936   0.540123   2.290467   1.600268    0.0        2   \n",
            "283  -1.744188   1.660608  -1.416603  -2.802203  -1.188424    0.0        2   \n",
            "289   0.715939  -2.994613   0.880938   1.808132   0.436638    0.0        0   \n",
            "346  -0.971171   1.426317   2.488442   1.695970   0.141807    0.0        0   \n",
            "349  -1.629584  -2.121176  -1.838847   1.966764  -0.196234    0.0        2   \n",
            "363  -1.446940   2.620574  -0.747473  -1.300347  -0.803850    0.0        2   \n",
            "412   2.929096   0.222858   0.976038  -1.556934  -1.329892    0.0        0   \n",
            "417  -1.369391  -0.766328   1.281511   1.914230  -1.665956    0.0        0   \n",
            "422   1.710837   1.414415  -0.063661  -1.579931  -2.832012    0.0        0   \n",
            "448  -1.667780   0.588038   1.557010   0.884027  -2.019540    0.0        0   \n",
            "\n",
            "     distance_to_center  anomaly  \n",
            "0              2.708511     True  \n",
            "4              2.757111     True  \n",
            "93             2.521646     True  \n",
            "98             2.646584     True  \n",
            "117            2.456133     True  \n",
            "137            3.255083     True  \n",
            "179            2.532730     True  \n",
            "210            2.774964     True  \n",
            "270            2.786123     True  \n",
            "283            3.123450     True  \n",
            "289            2.746878     True  \n",
            "346            2.716693     True  \n",
            "349            2.659311     True  \n",
            "363            2.521411     True  \n",
            "412            2.636032     True  \n",
            "417            2.545321     True  \n",
            "422            3.081148     True  \n",
            "448            2.535045     True  \n"
          ]
        }
      ]
    }
  ]
}